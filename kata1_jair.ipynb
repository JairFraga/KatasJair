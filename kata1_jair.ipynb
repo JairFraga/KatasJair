{
 "cells": [
  {
   "cell_type": "markdown",
   "metadata": {},
   "source": [
    "# KATA 1.date"
   ]
  },
  {
   "cell_type": "code",
   "execution_count": 1,
   "metadata": {},
   "outputs": [
    {
     "name": "stdout",
     "output_type": "stream",
     "text": [
      "Today date is:  2022-02-10\n"
     ]
    }
   ],
   "source": [
    "from datetime import date \n",
    "\n",
    "print(\"Today date is: \",date.today())"
   ]
  },
  {
   "cell_type": "markdown",
   "metadata": {},
   "source": [
    "# KATA 1.conversor_unidades"
   ]
  },
  {
   "cell_type": "code",
   "execution_count": 3,
   "metadata": {},
   "outputs": [
    {
     "name": "stdout",
     "output_type": "stream",
     "text": [
      "11 parsec = 35.877159999999996 ligthyears\n"
     ]
    }
   ],
   "source": [
    "# [!TIP] 1 parsec es 3.26156 años luz. Utiliza el operador de multiplicación\n",
    "parsec = 11\n",
    "ligthyears = 3.26156 * parsec\n",
    "\n",
    "print(str(parsec)+ \" parsec = \"+ str(ligthyears)+ \" ligthyears\")\n"
   ]
  }
 ],
 "metadata": {
  "interpreter": {
   "hash": "5b141facc1a19a42657efdcac2d72196b0da84adb0242efd14d968c5f7aa5711"
  },
  "kernelspec": {
   "display_name": "Python 3.7.6 ('base')",
   "language": "python",
   "name": "python3"
  },
  "language_info": {
   "codemirror_mode": {
    "name": "ipython",
    "version": 3
   },
   "file_extension": ".py",
   "mimetype": "text/x-python",
   "name": "python",
   "nbconvert_exporter": "python",
   "pygments_lexer": "ipython3",
   "version": "3.7.6"
  },
  "orig_nbformat": 4
 },
 "nbformat": 4,
 "nbformat_minor": 2
}
