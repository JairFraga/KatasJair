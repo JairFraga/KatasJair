{
 "cells": [
  {
   "cell_type": "markdown",
   "metadata": {},
   "source": [
    "## Ejercicio 1: Creación de diccionarios de Python\n",
    "\n",
    "### Ejercicio: Crear y modificar un diccionario de Python\n",
    "\n",
    "Para este ejercicio, crearás un diccionario que almacene información sobre el planeta Marte"
   ]
  },
  {
   "cell_type": "code",
   "execution_count": 8,
   "metadata": {},
   "outputs": [
    {
     "name": "stdout",
     "output_type": "stream",
     "text": [
      "{'key': 'value', 'number': 42}\n"
     ]
    }
   ],
   "source": [
    "#ejemplo\n",
    "demo = {\n",
    "    'key': 'value',\n",
    "    'number': 42\n",
    "}\n",
    "print (demo)\n"
   ]
  },
  {
   "cell_type": "code",
   "execution_count": 12,
   "metadata": {},
   "outputs": [
    {
     "name": "stdout",
     "output_type": "stream",
     "text": [
      "{'name': 'Mars', 'moons': 2}\n",
      "El planeta:  Mars Tiene :  2  Lunas\n"
     ]
    }
   ],
   "source": [
    "#Para este ejercicio, crearás un diccionario que almacene información sobre el planeta Marte\n",
    "\"\"\"\n",
    "Agrega el código para crear un nuevo diccionario denominado 'planet'. Rellena con la siguiente información:\n",
    "name: Mars\n",
    "moons: 2\n",
    "\"\"\"\n",
    "planet= {'name': 'Mars','moons': 2}\n",
    "print(planet)\n",
    "\n",
    "print(\"El planeta: \", planet[\"name\"], \"Tiene : \", planet[\"moons\"],\" Lunas\")\n",
    "\n"
   ]
  },
  {
   "cell_type": "markdown",
   "metadata": {},
   "source": [
    "Agrega un nuevo valor con una clave de 'circunferencia (km)'. Este nuevo valor debería almacenar un diccionario con las dos circunferencias del planeta:\n",
    "polar: 6752\n",
    "equatorial: 6792"
   ]
  },
  {
   "cell_type": "code",
   "execution_count": 13,
   "metadata": {},
   "outputs": [
    {
     "name": "stdout",
     "output_type": "stream",
     "text": [
      "{'name': 'Mars', 'moons': 2, 'circunferencia (km)': {'polar': 6752, 'equatorial': 6792}}\n",
      " Mars tiene una circunferencia polar de 6752\n"
     ]
    }
   ],
   "source": [
    "planet[\"circunferencia (km)\"] = {\"polar\": 6752, \"equatorial\":6792}\n",
    "print(planet)\n",
    "\n",
    "## Imprime el nombre del planeta con su circunferencia polar\n",
    "print(f' {planet[\"name\"]} tiene una circunferencia polar de {planet[\"circunferencia (km)\"][\"polar\"]}')\n"
   ]
  },
  {
   "cell_type": "markdown",
   "metadata": {},
   "source": [
    "## Ejercicio 2: Programación dinámica con diccionarios\n",
    "### Ejercicio: Cálculo de valores\n",
    "\n"
   ]
  },
  {
   "cell_type": "code",
   "execution_count": 23,
   "metadata": {},
   "outputs": [
    {
     "name": "stdout",
     "output_type": "stream",
     "text": [
      "Lista de lunas:  dict_values([0, 0, 1, 2, 79, 82, 27, 14, 5, 2, 1, 1])\n",
      "Total de planetas:  12\n",
      "Lunas totales:  214\n",
      "promedio de lunas por planeta 17\n"
     ]
    }
   ],
   "source": [
    "from math import  floor\n",
    "# Planets and moons\n",
    "planet_moons = {\n",
    "    'mercury': 0,\n",
    "    'venus': 0,\n",
    "    'earth': 1,\n",
    "    'mars': 2,\n",
    "    'jupiter': 79,\n",
    "    'saturn': 82,\n",
    "    'uranus': 27,\n",
    "    'neptune': 14,\n",
    "    'pluto': 5,\n",
    "    'haumea': 2,\n",
    "    'makemake': 1,\n",
    "    'eris': 1\n",
    "}\n",
    "# Añade el código para determinar el número de lunas.\n",
    "\n",
    "# Obtenemos la lista de las lunas\n",
    "# Almacenamos los resultados en una variable moons\n",
    "moons=planet_moons.values()\n",
    "print(\"Lista de lunas: \",moons)\n",
    "# Obtenemos la lista de las lunas\n",
    "# Almacenamos los resultados en una variable moons\n",
    "planets=len(planet_moons.keys())\n",
    "print(\"Total de planetas: \",planets)\n",
    "\n",
    "# Calcula el total_moons agregando todas las lunas\n",
    "# Almacena su valor en una variable llamada total_moons\n",
    "#contar el numero de lunas\n",
    "total_moons=0\n",
    "for luna in moons:\n",
    "    total_moons+=luna\n",
    "\n",
    "print(\"Lunas totales: \",total_moons)\n",
    "# Calcula el promedio dividiendo el total_moons por el número de planetas\n",
    "average=floor(total_moons/planets)\n",
    "print(\"promedio de lunas por planeta\",average)\n"
   ]
  }
 ],
 "metadata": {
  "interpreter": {
   "hash": "5b141facc1a19a42657efdcac2d72196b0da84adb0242efd14d968c5f7aa5711"
  },
  "kernelspec": {
   "display_name": "Python 3.7.6 ('base')",
   "language": "python",
   "name": "python3"
  },
  "language_info": {
   "codemirror_mode": {
    "name": "ipython",
    "version": 3
   },
   "file_extension": ".py",
   "mimetype": "text/x-python",
   "name": "python",
   "nbconvert_exporter": "python",
   "pygments_lexer": "ipython3",
   "version": "3.7.6"
  },
  "orig_nbformat": 4
 },
 "nbformat": 4,
 "nbformat_minor": 2
}
