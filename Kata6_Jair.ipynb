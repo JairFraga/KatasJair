{
 "cells": [
  {
   "cell_type": "markdown",
   "metadata": {},
   "source": [
    "Ejercicio1: Crear y usar listas de Python"
   ]
  },
  {
   "cell_type": "code",
   "execution_count": 4,
   "metadata": {},
   "outputs": [
    {
     "name": "stdout",
     "output_type": "stream",
     "text": [
      "posicion  0  :  Mercurio\n",
      "posicion  1  :  Venus\n",
      "posicion  2  :  Tierra\n",
      "posicion  3  :  Marte\n",
      "posicion  4  :  Jupiter\n",
      "posicion  5  :  Saturno\n",
      "posicion  6  :  Urano\n",
      "posicion  7  :  Neptuno\n"
     ]
    }
   ],
   "source": [
    "# Creamos la lista planets y la mostramos\n",
    "planets = [\"Mercurio\", \"Venus\", \"Tierra\", \"Marte\", \"Jupiter\", \"Saturno\", \"Urano\",\"Neptuno\" ]\n",
    "x = 0\n",
    "for elemento in planets:\n",
    "\n",
    "    print(\"posicion \", x, \" : \", elemento)\n",
    "    x += 1\n"
   ]
  },
  {
   "cell_type": "code",
   "execution_count": 12,
   "metadata": {},
   "outputs": [
    {
     "name": "stdout",
     "output_type": "stream",
     "text": [
      "Planetas en el Sistema solar:  7\n",
      "Ultimo planeta:  Neptune\n"
     ]
    }
   ],
   "source": [
    "\n",
    "#Agrega a Plutón a la lista que creaste. Luego muestra tanto el número de planetas como el último planeta de la lista.\n",
    "\n",
    "#planets.append(\"Pluton\")\n",
    "print(\"Planetas en el Sistema solar: \", len(planets))\n",
    "print(\"Ultimo planeta: \",planets[-1])\n"
   ]
  },
  {
   "cell_type": "markdown",
   "metadata": {},
   "source": [
    "Ejercicio 2: Trabajando con datos de una lista"
   ]
  },
  {
   "cell_type": "code",
   "execution_count": 11,
   "metadata": {},
   "outputs": [
    {
     "name": "stdout",
     "output_type": "stream",
     "text": [
      "los planetas que estan antes de:  Mars  son:  ['Mercury', 'Venus', 'Earth']\n",
      "los planetas que estan despues de:  Mars  son:  ['Jupiter', 'Saturn', 'Neptune']\n"
     ]
    }
   ],
   "source": [
    "# Lista de planetas\n",
    "planets = ['Mercury', 'Venus', 'Earth', 'Mars', 'Jupiter', 'Saturn', 'Neptune']\n",
    "# Solicitamos el nombre de un planeta *Pista:  input()*\n",
    "\n",
    "planeta=input(\"Write the name of a planet \")\n",
    "# Busca el planeta en la lista\n",
    "indice= planets.index(planeta)\n",
    "\n",
    "#Mostrar planetas más cercanos al sol que el que el usuario ingresó\n",
    "\n",
    "cercanos= planets[0:indice]\n",
    "print(\"los planetas que estan antes de: \",planeta, \" son: \",cercanos)\n",
    "\n",
    "#Mostrar planetas más alejados del sol que el que el usuario ingresó\n",
    "lejanos = planets[indice+1:]\n",
    "print(\"los planetas que estan despues de: \", planeta, \" son: \", lejanos)\n"
   ]
  }
 ],
 "metadata": {
  "interpreter": {
   "hash": "5b141facc1a19a42657efdcac2d72196b0da84adb0242efd14d968c5f7aa5711"
  },
  "kernelspec": {
   "display_name": "Python 3.7.6 ('base')",
   "language": "python",
   "name": "python3"
  },
  "language_info": {
   "codemirror_mode": {
    "name": "ipython",
    "version": 3
   },
   "file_extension": ".py",
   "mimetype": "text/x-python",
   "name": "python",
   "nbconvert_exporter": "python",
   "pygments_lexer": "ipython3",
   "version": "3.7.6"
  },
  "orig_nbformat": 4
 },
 "nbformat": 4,
 "nbformat_minor": 2
}
