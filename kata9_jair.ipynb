{
 "cells": [
  {
   "cell_type": "markdown",
   "metadata": {},
   "source": [
    "## Uso de funciones en Python\n",
    "Trabajar con argumentos en funciones\n",
    "En este ejercicio, construirás un informe de combustible que requiere información de varias ubicaciones de combustible en todo el cohete."
   ]
  },
  {
   "cell_type": "code",
   "execution_count": 11,
   "metadata": {},
   "outputs": [
    {
     "name": "stdout",
     "output_type": "stream",
     "text": [
      "('El promedio de las lecturas del combustible es', 15.0)\n",
      "('El promedio de las lecturas del combustible es', 17.0)\n"
     ]
    }
   ],
   "source": [
    "#Comienza por crear una función que necesite tres lecturas de combustible y devuelva un informe:\n",
    "# Función para leer 3 tanques de combustible y muestre el promedio\n",
    "def informe_combustible(lectura1, lectura2, lectura3):\n",
    "    prom=(lectura1+lectura2+lectura3)/3\n",
    "    return \"El promedio de las lecturas del combustible es\",prom\n",
    "\n",
    "# Llamamos a la función que genera el reporte print(funcion(tanque1, tanque2, tanque3))\n",
    "print(informe_combustible(12,23,10))\n",
    "\n",
    "\n",
    "#En lugar de simplemente crear el informe, la función también está calculando el promedio.\n",
    "#  Mejora la legibilidad extrayendo el cálculo promedio de la función en una nueva función\n",
    "#  para que el promedio se pueda hacer de forma independiente:\n",
    "# Función promedio\n",
    "def prom(valores):\n",
    "    return((sum(valores))/len(valores))\n",
    "\n",
    "\n",
    "# Actualiza la función\n",
    "def informe_combustible(lectura1, lectura2, lectura3):\n",
    "    return \"El promedio de las lecturas del combustible es\", prom([lectura1, lectura2, lectura3])\n",
    "\n",
    "\n",
    "print(informe_combustible(14, 27, 10))\n"
   ]
  },
  {
   "cell_type": "markdown",
   "metadata": {},
   "source": [
    "## Ejercicio 2: Trabajo con argumentos de palabra clave\n",
    "### Ejercicio : Trabajar con argumentos de palabras clave en funciones\n",
    "En este ejercicio, construirás un informe de cohete que requiere varias piezas de información, como el tiempo hasta el destino, el combustible a la izquierda y el nombre del destino. Comienza por crear una función que creará un informe preciso de la misión:"
   ]
  },
  {
   "cell_type": "code",
   "execution_count": 15,
   "metadata": {},
   "outputs": [
    {
     "name": "stdout",
     "output_type": "stream",
     "text": [
      "('destino: ', 'mars', ' tiempo de vuelo', 35, ' Combustible: ', 35)\n"
     ]
    }
   ],
   "source": [
    "# Función con un informe preciso de la misión. Considera hora de prelanzamiento, tiempo de vuelo, destino, tanque externo y tanque interno\n",
    "\n",
    "def informe_cohete(prelanzamiento, tiempo_vuelo, destino, tanque_ext, tanque_int):\n",
    "    \n",
    "    return(\"destino: \", destino, \" tiempo de vuelo:\", prelanzamiento+tiempo_vuelo,\" Combustible: \",tanque_ext+tanque_int)\n",
    "\n",
    "print(informe_cohete(12,23,\"mars\",12,23))\n",
    "\n"
   ]
  },
  {
   "cell_type": "markdown",
   "metadata": {},
   "source": [
    "La función es problemática porque no se puede adaptar para minutos adicionales o tanques adicionales de combustible. Hazlo más flexible permitiendo cualquier número de pasos basados en el tiempo y cualquier número de tanques. En lugar de usar *args y **kwargs, aprovecha el hecho de que puedes usar cualquier nombre que desees. Asegurate que la función sea más legible mediante el uso de nombres de variables que están asociados con las entradas, como *minutes y **fuel_reservoirs:"
   ]
  },
  {
   "cell_type": "code",
   "execution_count": 23,
   "metadata": {},
   "outputs": [
    {
     "name": "stdout",
     "output_type": "stream",
     "text": [
      "\n",
      "    Destino: mars\n",
      "    Tiempo de vuelo: 47 minutos\n",
      "    Combustible: 7501\n",
      "    \n"
     ]
    }
   ],
   "source": [
    "# Escribe tu nueva función de reporte considerando lo anterior\n",
    "\n",
    "\n",
    "def reporte_mision(destino, *minutos, **combustible):\n",
    "    return f\"\"\"\n",
    "    Destino: {destino}\n",
    "    Tiempo de vuelo: {sum(minutos)} minutos\n",
    "    Combustible: {sum(combustible.values())}\n",
    "    \"\"\"\n",
    "\n",
    "\n",
    "print(reporte_mision(\"mars\", 12, 23, 12, interior=2000, exterior=5501 ))\n"
   ]
  },
  {
   "cell_type": "markdown",
   "metadata": {},
   "source": [
    "Debido a que el combustible que queda en los tanques es específico de cada tanque, actualiza la función para usar el nombre de cada tanque en el informe:"
   ]
  },
  {
   "cell_type": "code",
   "execution_count": 25,
   "metadata": {},
   "outputs": [
    {
     "name": "stdout",
     "output_type": "stream",
     "text": [
      "\n",
      "    Destino: mars\n",
      "    Tiempo de vuelo: 47 minutos\n",
      "    Combustible: 7501\n",
      "    interior tanque 2000 litros quedan\n",
      "exterior tanque 5501 litros quedan\n",
      "\n"
     ]
    }
   ],
   "source": [
    "\n",
    "def reporte_mision(destino, *minutos, **combustible):\n",
    "    reporte= f\"\"\"\n",
    "    Destino: {destino}\n",
    "    Tiempo de vuelo: {sum(minutos)} minutos\n",
    "    Combustible: {sum(combustible.values())}\n",
    "    \"\"\"\n",
    "    for tanque, litros in combustible.items():\n",
    "        reporte += f\"{tanque} tanque {litros} litros quedan\\n\"\n",
    "    return reporte\n",
    "\n",
    "\n",
    "print(reporte_mision(\"mars\", 12, 23, 12, interior=2000, exterior=5501))\n"
   ]
  }
 ],
 "metadata": {
  "interpreter": {
   "hash": "5b141facc1a19a42657efdcac2d72196b0da84adb0242efd14d968c5f7aa5711"
  },
  "kernelspec": {
   "display_name": "Python 3.7.6 ('base')",
   "language": "python",
   "name": "python3"
  },
  "language_info": {
   "codemirror_mode": {
    "name": "ipython",
    "version": 3
   },
   "file_extension": ".py",
   "mimetype": "text/x-python",
   "name": "python",
   "nbconvert_exporter": "python",
   "pygments_lexer": "ipython3",
   "version": "3.7.6"
  },
  "orig_nbformat": 4
 },
 "nbformat": 4,
 "nbformat_minor": 2
}
