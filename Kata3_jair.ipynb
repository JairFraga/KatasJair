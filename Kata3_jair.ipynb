{
 "cells": [
  {
   "cell_type": "code",
   "execution_count": 3,
   "metadata": {},
   "outputs": [
    {
     "name": "stdout",
     "output_type": "stream",
     "text": [
      "Advertencia de impacto, asteroide > 25\n"
     ]
    }
   ],
   "source": [
    "# Añadir el código necesario para crear una variable que guarde la velocidad del asteroide.\n",
    "# Escribe una expresión de prueba para calcular si necesita una advertencia.\n",
    "# Agregue las instrucciones que se ejecutarán si la expresión de prueba es true o false.\n",
    "\n",
    "asteroide= 49\n",
    "\n",
    "if asteroide > 25:\n",
    "    print(\"Advertencia de impacto, asteroide > 25\")\n",
    "else: \n",
    "    print(\"Sigan con su dia !\")\n"
   ]
  },
  {
   "cell_type": "code",
   "execution_count": 9,
   "metadata": {},
   "outputs": [
    {
     "name": "stdout",
     "output_type": "stream",
     "text": [
      "Sigan con su dia \n"
     ]
    }
   ],
   "source": [
    "# Agrega el código para crear una variable para un asteroide que viaja a 19 km/s\n",
    "# Escribe varias expresiones de prueba para determinar si puedes ver el rayo de luz desde la tierra\n",
    "# Agrega las instrucciones que se ejecutarán si las expresiones de prueba son True o False\n",
    "\n",
    "\n",
    "asteroide= 19\n",
    "\n",
    "if asteroide > 20:\n",
    "    print(\"Mira al cielo, se acerca un asteroide\")\n",
    "elif asteroide == 20:\n",
    "    print(\"Mira al cielo, se acerca un asteroide\")\n",
    "else:\n",
    "    print(\"Sigan con su dia \")\n"
   ]
  },
  {
   "cell_type": "code",
   "execution_count": 19,
   "metadata": {},
   "outputs": [
    {
     "name": "stdout",
     "output_type": "stream",
     "text": [
      "Siga con su dia :)\n"
     ]
    }
   ],
   "source": [
    "# Agrega el código para crear nuevas variables para la velocidad y el tamaño del asteroide\n",
    "# Para probar el código, prueba con varias velocidades y tamaños\n",
    "# Escribe varias expresiones de prueba o combinaciones de expresiones de prueba para determinar qué mensaje se debe enviar a Tierra.\n",
    "\n",
    "velocidadA= 19\n",
    "tamanoA= 25\n",
    "\n",
    "if tamanoA > 25 or velocidadA > 25:\n",
    "    print(\"Este asteroide causara mucho daño\")\n",
    "elif velocidadA >= 20:\n",
    "    print(\" Mira al cielo, se vera un gran destello\")\n",
    "elif tamanoA < 25 :\n",
    "    print(\"El asteriode se quemara en la atmosfera, no hay peligro\")\n",
    "else:\n",
    "    print(\"Siga con su dia :)\")\n",
    "\n"
   ]
  }
 ],
 "metadata": {
  "interpreter": {
   "hash": "5b141facc1a19a42657efdcac2d72196b0da84adb0242efd14d968c5f7aa5711"
  },
  "kernelspec": {
   "display_name": "Python 3.7.6 ('base')",
   "language": "python",
   "name": "python3"
  },
  "language_info": {
   "codemirror_mode": {
    "name": "ipython",
    "version": 3
   },
   "file_extension": ".py",
   "mimetype": "text/x-python",
   "name": "python",
   "nbconvert_exporter": "python",
   "pygments_lexer": "ipython3",
   "version": "3.7.6"
  },
  "orig_nbformat": 4
 },
 "nbformat": 4,
 "nbformat_minor": 2
}
