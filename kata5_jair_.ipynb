{
 "cells": [
  {
   "cell_type": "markdown",
   "metadata": {},
   "source": [
    "Tierra (149.597.870 km) y Júpiter (778.547.200 km)."
   ]
  },
  {
   "cell_type": "code",
   "execution_count": 3,
   "metadata": {},
   "outputs": [],
   "source": [
    "# Crear variables para almacenar las dos distancias\n",
    "# ¡Asegúrate de quitar las comas!\n",
    "\n",
    "tierra_km = 149597870\n",
    "jupiter_km = 778547200\n",
    "\n"
   ]
  },
  {
   "cell_type": "markdown",
   "metadata": {},
   "source": [
    "Realizar la operación\n",
    "Con los valores obtenidos, es el momento de añadir el código para realizar la operación. \n",
    "Restarás el primer planeta del segundo para determinar la distancia en kilómetros. \n",
    "A continuación, puedes convertir la distancia del kilómetro en millas multiplicándola por 0.621\n"
   ]
  },
  {
   "cell_type": "code",
   "execution_count": 5,
   "metadata": {},
   "outputs": [
    {
     "name": "stdout",
     "output_type": "stream",
     "text": [
      "distancia km 628949330\n",
      "distancia millas 390577534\n"
     ]
    }
   ],
   "source": [
    "distancia= jupiter_km - tierra_km\n",
    "distancia_mill=distancia*0.621\n",
    "print(\"distancia km\",distancia)\n",
    "print(\"distancia millas\",round(distancia_mill))\n",
    "\n"
   ]
  },
  {
   "cell_type": "markdown",
   "metadata": {},
   "source": [
    "Ejercicio 2: convierte cadenas en números y usa valores absolutos\n",
    "Crear una aplicación para trabajar con números y entrada de usuario"
   ]
  },
  {
   "cell_type": "code",
   "execution_count": 3,
   "metadata": {},
   "outputs": [
    {
     "name": "stdout",
     "output_type": "stream",
     "text": [
      "La distancia Mercurio a Venus es de:  2000  km o 1242.0  millas\n"
     ]
    }
   ],
   "source": [
    "# Almacenar las entradas del usuario\n",
    "#Pista: variable = input(\"¿Cuál es tu nombre?\")\n",
    "\n",
    "#distancia del sol a 2 planetas\n",
    "\n",
    "nombre = input(\"Bienvenido, Cual es tu nombre: \")\n",
    "\n",
    "mercurio = int(input(\"%s escribe la distancia del sol a mercurio:  \" % nombre))\n",
    "venus = int(input(\"%s escribe la distancia del sol a venus: \" % nombre))\n",
    "\n",
    "dist=abs(venus-mercurio)\n",
    "mill=dist*0.621\n",
    "\n",
    "print(\"La distancia Mercurio a Venus es de: \",dist,\" km o\", mill,\" millas\")\n",
    "\n",
    "\n",
    "\n",
    "#print(nombre)\n"
   ]
  }
 ],
 "metadata": {
  "interpreter": {
   "hash": "5b141facc1a19a42657efdcac2d72196b0da84adb0242efd14d968c5f7aa5711"
  },
  "kernelspec": {
   "display_name": "Python 3.7.6 ('base')",
   "language": "python",
   "name": "python3"
  },
  "language_info": {
   "codemirror_mode": {
    "name": "ipython",
    "version": 3
   },
   "file_extension": ".py",
   "mimetype": "text/x-python",
   "name": "python",
   "nbconvert_exporter": "python",
   "pygments_lexer": "ipython3",
   "version": "3.7.6"
  },
  "orig_nbformat": 4
 },
 "nbformat": 4,
 "nbformat_minor": 2
}
